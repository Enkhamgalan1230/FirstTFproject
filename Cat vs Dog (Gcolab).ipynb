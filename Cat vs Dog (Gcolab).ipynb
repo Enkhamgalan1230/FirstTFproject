{
  "nbformat": 4,
  "nbformat_minor": 0,
  "metadata": {
    "colab": {
      "provenance": [],
      "authorship_tag": "ABX9TyMVhGcycofpi+nkryTVV4kM",
      "include_colab_link": true
    },
    "kernelspec": {
      "name": "python3",
      "display_name": "Python 3"
    },
    "language_info": {
      "name": "python"
    }
  },
  "cells": [
    {
      "cell_type": "markdown",
      "metadata": {
        "id": "view-in-github",
        "colab_type": "text"
      },
      "source": [
        "<a href=\"https://colab.research.google.com/github/Enkhamgalan1230/ML-projects/blob/main/CatnDog1.ipynb\" target=\"_parent\"><img src=\"https://colab.research.google.com/assets/colab-badge.svg\" alt=\"Open In Colab\"/></a>"
      ]
    },
    {
      "cell_type": "markdown",
      "source": [
        "Downloading the dataset"
      ],
      "metadata": {
        "id": "IecgfxpcvZb-"
      }
    },
    {
      "cell_type": "code",
      "execution_count": 1,
      "metadata": {
        "colab": {
          "base_uri": "https://localhost:8080/"
        },
        "id": "3BLPGdSxr6W3",
        "outputId": "e46ffcb9-96ff-4abb-b7e8-f55791dfc2f5"
      },
      "outputs": [
        {
          "output_type": "stream",
          "name": "stdout",
          "text": [
            "--2023-10-24 12:51:24--  http://=/\n",
            "Resolving = (=)... failed: Name or service not known.\n",
            "wget: unable to resolve host address ‘=’\n",
            "--2023-10-24 12:51:24--  https://download.microsoft.com/download/3/E/1/3E1C3F21-ECDB-4869-8368-6DEBA77B919F/kagglecatsanddogs_5340.zip\n",
            "Resolving download.microsoft.com (download.microsoft.com)... 23.213.136.9, 2600:1408:7:1a9::317f, 2600:1408:7:1bb::317f, ...\n",
            "Connecting to download.microsoft.com (download.microsoft.com)|23.213.136.9|:443... connected.\n",
            "HTTP request sent, awaiting response... 200 OK\n",
            "Length: 824887076 (787M) [application/octet-stream]\n",
            "Saving to: ‘kagglecatsanddogs_5340.zip’\n",
            "\n",
            "kagglecatsanddogs_5 100%[===================>] 786.67M   237MB/s    in 3.4s    \n",
            "\n",
            "2023-10-24 12:51:27 (233 MB/s) - ‘kagglecatsanddogs_5340.zip’ saved [824887076/824887076]\n",
            "\n",
            "FINISHED --2023-10-24 12:51:27--\n",
            "Total wall clock time: 3.4s\n",
            "Downloaded: 1 files, 787M in 3.4s (233 MB/s)\n"
          ]
        }
      ],
      "source": [
        "!wget = https://download.microsoft.com/download/3/E/1/3E1C3F21-ECDB-4869-8368-6DEBA77B919F/kagglecatsanddogs_5340.zip"
      ]
    },
    {
      "cell_type": "markdown",
      "source": [
        "Unzipping the folder"
      ],
      "metadata": {
        "id": "kURB5_Xdv0Fy"
      }
    },
    {
      "cell_type": "code",
      "source": [
        "!unzip kagglecatsanddogs_5340.zip"
      ],
      "metadata": {
        "id": "ccCwhaArvYu2"
      },
      "execution_count": null,
      "outputs": []
    }
  ]
}
